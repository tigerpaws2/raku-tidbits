{
 "cells": [
  {
   "cell_type": "markdown",
   "metadata": {},
   "source": [
    "# Table des Matières\n",
    "* [Nombres](#nombres)\n",
    "   - [Nombres aléatoires](#aléatoires)\n",
    "   - [Précision des calculs](#précision)\n",
    "* [Listes, Séquences et Dictonnaires](#listsseq)\n",
    "   - [Listes](#lists)\n",
    "   - [Dictionnaires](#hashes)\n",
    "   - [Séqences](#sequences)\n",
    "   - [Générateurs](#generators)\n",
    "* [Fonctions](#functions)\n",
    "   - [Gradual Typing](#gradual)\n",
    "   - [Subsets](#subsets)\n",
    "   - [Multi-Methods](#methods)\n",
    "* [Concurrency](#concurrency)\n",
    "   - [Parallel Processing](#parallel)\n",
    "   - [Hyper Operators](#hyperoperators)\n",
    "   - [Hyper Sequences](#hyperseqs)\n",
    "   - [Asynchrone](#promises)\n",
    "* [Grammars](#grammars)   \n"
   ]
  },
  {
   "cell_type": "markdown",
   "metadata": {},
   "source": [
    "<a name=\"introduction\"></a>\n",
    "# Introduction"
   ]
  },
  {
   "cell_type": "markdown",
   "metadata": {},
   "source": [
    "Raku, anciennement perl6, est un nouveau langage qui n'est PAS du tout compatible avec perl5, mais en garde néanmoins des aires de famille. C'est un langage entièrement object, donc toute (sauf exception) est un objet, et on peut appeler des methodes sur n'importe quoi. Le compilateur peut produire du code diriigé vers sa propre VM: MoarVM, ou le JVM, ou Javascript. Raku est enitèrement en Unicode, on peut donc utiliser toutes les caractères unicode, comme par exemple π, même en tant qu'opérateurs ou noms de variables et fonctions. \n",
    "\n",
    "Remerciements à toute la communauté Raku qui a fait les présentations et documents qui m'ont aidés à construire cette présentation. "
   ]
  },
  {
   "cell_type": "markdown",
   "metadata": {},
   "source": [
    "<a name=\"nombres\"> </a>\n",
    "# Nombres"
   ]
  },
  {
   "cell_type": "markdown",
   "metadata": {},
   "source": [
    "<a name=\"aléatoires\"> </a>\n",
    "## Nombres aléatoires\n",
    "\n",
    "C'est un problème généralisé, depuis toujours. Est-ce que votre langage de programmation as un mot clé `rand`, qui donne une réponse entre 0 et presque 1, ou une fonction `rand()`, qui donne une réponse entre 1 et l'argument?  Est-ce que c'est en point flottant? Est-ce qu'il faut l'arrondir? le tronquer? \n"
   ]
  },
  {
   "cell_type": "markdown",
   "metadata": {},
   "source": [
    "Raku fournit une fonction `roll` qui sélectionne au hasard un élément d'une liste (plutôt que de générer un entier)"
   ]
  },
  {
   "cell_type": "code",
   "execution_count": null,
   "metadata": {},
   "outputs": [],
   "source": [
    "(1000..9999).roll;"
   ]
  },
  {
   "cell_type": "markdown",
   "metadata": {},
   "source": [
    "Un exemple du genre d'utilisation: voici un dungeon master qui veut donner des attributs au hasrd à un joueur: "
   ]
  },
  {
   "cell_type": "code",
   "execution_count": null,
   "metadata": {},
   "outputs": [],
   "source": [
    "my @attributes = <Str Int Dex Con Cha>;\n",
    "\n",
    "my @d6 = 1..6;\n",
    "\n",
    "for @attributes -> $atr {\n",
    "    my $stat = @d6.roll(3).sum;\n",
    "\n",
    "    say \"$atr: $stat\"; \n",
    "}"
   ]
  },
  {
   "cell_type": "markdown",
   "metadata": {},
   "source": [
    "Mais peut-être un dungeon master plus généreux prendrait les meilleurs 3 dés sur 5:"
   ]
  },
  {
   "cell_type": "code",
   "execution_count": null,
   "metadata": {},
   "outputs": [],
   "source": [
    "my @attributes = <Str Int Dex Con Cha>;\n",
    "\n",
    "my @d6 = 1..6;\n",
    "\n",
    "for @attributes -> $atr {\n",
    "    my $stat = @d6\n",
    "        .roll(5)\n",
    "        .sort(-*)\n",
    "        .head(3).sum;\n",
    "        \n",
    "    say \"$atr: $stat\"; \n",
    "}"
   ]
  },
  {
   "cell_type": "markdown",
   "metadata": {},
   "source": [
    "Enfin, `roll` permet la duplication, fait la sélection avec des doubles. Mais si ont veut avoir une sélection sans doubles? "
   ]
  },
  {
   "cell_type": "code",
   "execution_count": null,
   "metadata": {},
   "outputs": [],
   "source": [
    "my @friends = <Bob Martial Jean Freddie Bob Simon Jean>;\n",
    "say @friends.pick(3);"
   ]
  },
  {
   "cell_type": "markdown",
   "metadata": {},
   "source": [
    "<a name=\"précision\"></a> \n",
    "## Précision des calculs"
   ]
  },
  {
   "cell_type": "markdown",
   "metadata": {},
   "source": [
    "Le point-flottant est un problème depuis toujours. Sur STack Overflow, il y a d'innombrables questions dur le poinmt flottant. \n",
    "\n",
    "En mathèmathiques, l'énoncé `0.3 = 0.1 + 0.2`  est vrai. Mais, en python? en ruby?"
   ]
  },
  {
   "cell_type": "code",
   "execution_count": null,
   "metadata": {},
   "outputs": [],
   "source": [
    "%%bash\n",
    "ruby -e 'puts 0.3 == 0.1 + 0.2'"
   ]
  },
  {
   "cell_type": "code",
   "execution_count": null,
   "metadata": {},
   "outputs": [],
   "source": [
    "%%bash \n",
    "python -c 'print(0.1 + 0.2 == 0.3)'"
   ]
  },
  {
   "cell_type": "markdown",
   "metadata": {},
   "source": [
    "Python, Perl5, C, et maintes autres langages donnent la même reponse. "
   ]
  },
  {
   "cell_type": "markdown",
   "metadata": {},
   "source": [
    "Mais, en Raku, la réponse est correcte!"
   ]
  },
  {
   "cell_type": "code",
   "execution_count": null,
   "metadata": {},
   "outputs": [],
   "source": [
    "say 0.1 + 0.2 == 0.3 ?? \"yes\" !! \"No\" ;"
   ]
  },
  {
   "cell_type": "code",
   "execution_count": null,
   "metadata": {},
   "outputs": [],
   "source": [
    "say 0.3.nude;"
   ]
  },
  {
   "cell_type": "code",
   "execution_count": null,
   "metadata": {},
   "outputs": [],
   "source": [
    "say (1/12 + 1/5).nude;"
   ]
  },
  {
   "cell_type": "code",
   "execution_count": null,
   "metadata": {},
   "outputs": [],
   "source": [
    "0.3.WHAT"
   ]
  },
  {
   "cell_type": "markdown",
   "metadata": {},
   "source": [
    "Dans Haskell, ce sont des \"Rationals\". Dans Raku, ce sont des Rat. (Et si les chiffres deviennent assez frands, des BigRat)"
   ]
  },
  {
   "cell_type": "markdown",
   "metadata": {},
   "source": [
    "C'est plus lent que du point-flottant `hardware`, mais ça donne la bonne réponse, ce que le point flottant ne fait pas. "
   ]
  },
  {
   "cell_type": "markdown",
   "metadata": {},
   "source": [
    "Un autre exemple: $7\\over 3$"
   ]
  },
  {
   "cell_type": "code",
   "execution_count": null,
   "metadata": {},
   "outputs": [],
   "source": [
    "say -7/3;\n",
    "say (-7/3).nude;\n",
    "say (-7/3).WHAT;"
   ]
  },
  {
   "cell_type": "markdown",
   "metadata": {},
   "source": [
    "`pi` (`π`) et `tau` (τ) sont des built-in:"
   ]
  },
  {
   "cell_type": "code",
   "execution_count": null,
   "metadata": {},
   "outputs": [],
   "source": [
    "say pi == π;\n",
    "say pi;\n",
    "\n",
    "say tau == τ;\n",
    "say tau;\n",
    "tau.WHAT;"
   ]
  },
  {
   "cell_type": "markdown",
   "metadata": {},
   "source": [
    "<a name=\"listsseq\"></a>\n",
    "# Listes, séquences et dictionnaires"
   ]
  },
  {
   "cell_type": "markdown",
   "metadata": {},
   "source": [
    "<a name=\"lists\"></a>\n",
    "## Listes"
   ]
  },
  {
   "cell_type": "markdown",
   "metadata": {},
   "source": [
    "Des listes: c'est la virgule qui est l'opérateur de liste."
   ]
  },
  {
   "cell_type": "code",
   "execution_count": null,
   "metadata": {},
   "outputs": [],
   "source": [
    "say my @a = [ 1, 2, 3 ];\n",
    "\n",
    "say @a = 1, 2, 3;\n",
    "\n",
    "say @a = [ 'un', 'deux', 'trois' ];\n",
    "\n",
    "say @a = < un deux trois >; #un raccourci pour des mots\n",
    "say < un deux trois >.WHAT;\n",
    "\n",
    "say @a.keys;"
   ]
  },
  {
   "cell_type": "markdown",
   "metadata": {},
   "source": [
    "<a name='hashes'></a>\n",
    "## Dictionnaires"
   ]
  },
  {
   "cell_type": "markdown",
   "metadata": {},
   "source": [
    "Les dictionnaires sont appelés des `hash`. Voici quelques exemples de syntaxes possibles:"
   ]
  },
  {
   "cell_type": "code",
   "execution_count": null,
   "metadata": {},
   "outputs": [],
   "source": [
    "say my $h = { 'un' => 1, 'deux' => 2 };\n",
    "say {'un' => 1, 'deux' => 2 }.WHAT;\n",
    "\n",
    "say $h = { un => 1, deux => 2 }; # s'il n'y apas d'espace dans la clé\n",
    "\n",
    "say %h = < a b c d e f >;\n",
    "\n",
    "say %h = :un<1>, :deux<2>;\n",
    "(:un<1>, :deux<2> ).WHAT.say;\n",
    "\n",
    "say %h = :un(1), :deux(2);"
   ]
  },
  {
   "cell_type": "code",
   "execution_count": null,
   "metadata": {},
   "outputs": [],
   "source": [
    "say %h.keys;\n",
    "say %h.values;\n",
    "say %h{'un'};\n",
    "say %h<deux>;"
   ]
  },
  {
   "cell_type": "markdown",
   "metadata": {},
   "source": [
    "<a name=\"sequences\"></a>\n",
    "## Séquences"
   ]
  },
  {
   "cell_type": "markdown",
   "metadata": {},
   "source": [
    "Des listes qui ne sont pas entiérement evaluées encore, donc des *lazy lists*. Ces listes sont evalués au fur et à mesure que les valeurs sont demandés."
   ]
  },
  {
   "cell_type": "code",
   "execution_count": null,
   "metadata": {},
   "outputs": [],
   "source": [
    "say 0..10;  # même chose que python 'range(10)'\n",
    "say (0..10).eager;  # eager force l'évaluation immediate (.lazy ferait le contraire)\n",
    "\n",
    "say (0..^10).eager;\n",
    "say (^10).eager;"
   ]
  },
  {
   "cell_type": "markdown",
   "metadata": {},
   "source": [
    "Le chapeau indique *non-inclus*.  Donc:"
   ]
  },
  {
   "cell_type": "code",
   "execution_count": null,
   "metadata": {},
   "outputs": [],
   "source": [
    "say (0^..10).eager;\n",
    "say (0^..^10).eager;"
   ]
  },
  {
   "cell_type": "code",
   "execution_count": null,
   "metadata": {},
   "outputs": [],
   "source": [
    "say 5 == ^10;\n",
    "say ^10 == 5;"
   ]
  },
  {
   "cell_type": "markdown",
   "metadata": {},
   "source": [
    "Ce n'est pas limité aux numéros:"
   ]
  },
  {
   "cell_type": "code",
   "execution_count": null,
   "metadata": {},
   "outputs": [],
   "source": [
    "say ('a'..'zz')[37];"
   ]
  },
  {
   "cell_type": "markdown",
   "metadata": {},
   "source": [
    "<a name=\"generators\"></a>\n",
    "## Générateurs"
   ]
  },
  {
   "cell_type": "markdown",
   "metadata": {},
   "source": [
    "Le `...` ou le `…` est l'opérateur générateur. ça génère une liste "
   ]
  },
  {
   "cell_type": "code",
   "execution_count": null,
   "metadata": {},
   "outputs": [],
   "source": [
    "say 1 ... 4;\n",
    "say 4 ... 1;\n",
    "say 0.1, 0.2 ... 0.5; # raku détermine correctement que le pas est de 0.1\n",
    "\n",
    "say 'a' ... 'd';"
   ]
  },
  {
   "cell_type": "markdown",
   "metadata": {},
   "source": [
    "Attention!! Une liste infini:"
   ]
  },
  {
   "cell_type": "code",
   "execution_count": null,
   "metadata": {},
   "outputs": [],
   "source": [
    "my @à-l'infini = 0, 2 ... *;  # avance par 2\n",
    "say @à-l'infini[1020];\n",
    "\n",
    "@à-l'infini = 1, 2, 4  ... ∞;  # même chose, mais double à chaque pas\n",
    "say @à-l'infini[^12];"
   ]
  },
  {
   "cell_type": "markdown",
   "metadata": {},
   "source": [
    "Si on ajoute un block pour calculer la prochaine valeur, elle doit être le dernier item avant le `...`. \n",
    "Voici un feedback loop avec un amplificateur: $4x(1-x)$"
   ]
  },
  {
   "cell_type": "code",
   "execution_count": null,
   "metadata": {},
   "outputs": [],
   "source": [
    "say ( 0.2, { 4*$_*(1-$_) } ... * )[^5];"
   ]
  },
  {
   "cell_type": "code",
   "execution_count": null,
   "metadata": {},
   "outputs": [],
   "source": [
    "say ('a', 'b', * ~ * ... *)[^5];"
   ]
  },
  {
   "cell_type": "code",
   "execution_count": null,
   "metadata": {},
   "outputs": [],
   "source": [
    "say 1, 2, { sleep 1; last if $_ > 5; ++$_ } ... 10;"
   ]
  },
  {
   "cell_type": "markdown",
   "metadata": {},
   "source": [
    "\n",
    "### Palindromes"
   ]
  },
  {
   "cell_type": "markdown",
   "metadata": {},
   "source": [
    "Un petit cadeau !!"
   ]
  },
  {
   "cell_type": "code",
   "execution_count": null,
   "metadata": {},
   "outputs": [],
   "source": [
    "#say (^100).grep({ $_ eq $_.flip });\n",
    "say (^100).grep({ $_ eq $_.flip }).elems;"
   ]
  },
  {
   "cell_type": "markdown",
   "metadata": {},
   "source": [
    "<a name=\"functions\"></a> \n",
    "# Fonctions"
   ]
  },
  {
   "cell_type": "markdown",
   "metadata": {},
   "source": [
    "Des fonctions, methodes ou lambdas en raku sont des appelés des`subroutines`. Il y a maintes façons de les déclarer:"
   ]
  },
  {
   "cell_type": "code",
   "execution_count": null,
   "metadata": {},
   "outputs": [],
   "source": [
    "sub my-func { say \"Look ma, no args!\" }\n",
    "my-func;"
   ]
  },
  {
   "cell_type": "markdown",
   "metadata": {},
   "source": [
    "On peut les placer dans n'importe quel contenant (ou pas)"
   ]
  },
  {
   "cell_type": "code",
   "execution_count": null,
   "metadata": {},
   "outputs": [],
   "source": [
    "my &c = sub { say \"Look ma, no name!\" }\n",
    "c;     # OUTPUT: «Look ma, no name!␤» \n",
    " \n",
    "my Any:D $f = sub { say 'Still nameless...' }  # retourne n'importe quoi (type Any)\n",
    "$f();  # OUTPUT: «Still nameless...␤» \n",
    "\n",
    "my $nameless = -> { say 'also nameless' } # un `pointy block`\n",
    "$nameless();\n",
    " \n",
    "my Code \\a = sub { say ‚raw containers don't implement postcircumfix:<( )>‘ };\n",
    "a.();  # OUTPUT: «raw containers don't implement postcircumfix:<( )>␤»"
   ]
  },
  {
   "cell_type": "markdown",
   "metadata": {},
   "source": [
    "Une fonction peut recevoir des arguments, séparés par des virgules, même avec des valeurs par défault:"
   ]
  },
  {
   "cell_type": "code",
   "execution_count": null,
   "metadata": {},
   "outputs": [],
   "source": [
    "sub exclaim ( $phrase, $name = 'John' ) {\n",
    "    say \"$phrase $name !!!!\";\n",
    "}\n",
    "\n",
    "exclaim( 'Salut, mon chum' );"
   ]
  },
  {
   "cell_type": "markdown",
   "metadata": {},
   "source": [
    "Une methode est aussi une fonction. Comme on peut s';imaginer, c'ets une fonction avec un argument présumé, en raku on appele ça un `invocant`"
   ]
  },
  {
   "cell_type": "code",
   "execution_count": null,
   "metadata": {},
   "outputs": [],
   "source": [
    "my @a = [];\n",
    "\n",
    "# @a c'est l'invocant\n",
    "\n",
    "@a.push(1);  # appel de methode\n",
    "push(@a,1);  # appel de fonction avec invocant au premier argument \n",
    "push @a: 1;  # même chose (synytaxe 'liste' simplifié, le : identifie l'invocant)"
   ]
  },
  {
   "cell_type": "markdown",
   "metadata": {},
   "source": [
    "<a name=\"gradual\"></a>\n",
    "## Gradual Typing"
   ]
  },
  {
   "cell_type": "markdown",
   "metadata": {},
   "source": [
    "`Gradual typing` veut dire qu'on n'a pas besoin de spécifier des types d'arguments pour une fonction, mais si on les spécifie, ça permet de mieux gérer la compilation et l'exécution. Raku amène ça un peu plus loin que d'autres. "
   ]
  },
  {
   "cell_type": "markdown",
   "metadata": {},
   "source": [
    "L'ensemble d'arguments ainsi que la valeur de retour est la signature d'une fonction. "
   ]
  },
  {
   "cell_type": "code",
   "execution_count": null,
   "metadata": {},
   "outputs": [],
   "source": [
    "sub fmt( $lineno, Str $str ) {\n",
    "    say \"$lineno: $str\";\n",
    "}\n",
    "    \n",
    "fmt( 1, \"This must be a string\" );\n",
    "#fmt 2, [ 1, 2, 3];\n",
    "#fmt 3, π;"
   ]
  },
  {
   "cell_type": "markdown",
   "metadata": {},
   "source": [
    "On peut aussi mettre des contraintes:"
   ]
  },
  {
   "cell_type": "code",
   "execution_count": null,
   "metadata": {},
   "outputs": [],
   "source": [
    "    sub fmt( $lineno where * < 10, Str $str where *.chars == 5 ) {\n",
    "        say \"$lineno, $str\";\n",
    "    }\n",
    "    \n",
    "    #fmt( 1, \"This must be a string\" );\n",
    "    fmt( 1, \"afive\");\n",
    "    fmt(12,\"afive\");"
   ]
  },
  {
   "cell_type": "markdown",
   "metadata": {},
   "source": [
    "<a name=\"subsets\"></a>\n",
    "## Subsets"
   ]
  },
  {
   "cell_type": "markdown",
   "metadata": {},
   "source": [
    "Une autre façon de faire ce genre de chose est de déclarer des types avec contraintes:"
   ]
  },
  {
   "cell_type": "code",
   "execution_count": null,
   "metadata": {},
   "outputs": [],
   "source": [
    "subset SmallStr of Str where *.chars < 10;"
   ]
  },
  {
   "cell_type": "code",
   "execution_count": null,
   "metadata": {},
   "outputs": [],
   "source": [
    "sub baby-twitter( SmallStr $str ) {\n",
    "   say \"This string must be less that 10 chars: $str\"\n",
    "}\n",
    "\n",
    "#baby-twitter 'a longer string';\n",
    "baby-twitter 'tiny twit';"
   ]
  },
  {
   "cell_type": "markdown",
   "metadata": {},
   "source": [
    "<a name=\"methods\"></a>\n",
    "## Multi-Methods"
   ]
  },
  {
   "cell_type": "markdown",
   "metadata": {},
   "source": [
    "Plusieurs langages de programmation ont la capacité de définir plusieurs fois la même fonction ou methode, distingué par des arguments différents.\n",
    "Raku amène ça à un autre niveau."
   ]
  },
  {
   "cell_type": "code",
   "execution_count": null,
   "metadata": {},
   "outputs": [],
   "source": [
    "subset Prime      of Int   where *.is-prime;\n",
    "subset BigPrime   of Prime where * >  10_000;\n",
    "subset SmallPrime of Prime where * <= 10_000;"
   ]
  },
  {
   "cell_type": "code",
   "execution_count": null,
   "metadata": {},
   "outputs": [],
   "source": [
    "multi sub test-prime ( BigPrime   $num ) { say \"Prime number! Nice and big\"; }\n",
    "multi sub test-prime ( SmallPrime $num ) { say \"Puny prime number\";          }\n",
    "multi sub test-prime (            $num ) { say \"Gimme primes!\";              }"
   ]
  },
  {
   "cell_type": "code",
   "execution_count": null,
   "metadata": {},
   "outputs": [],
   "source": [
    "test-prime 3;\n",
    "test-prime(31337);\n",
    "test-prime 100_000;"
   ]
  },
  {
   "cell_type": "markdown",
   "metadata": {},
   "source": [
    "On peut même étendre des classes:"
   ]
  },
  {
   "cell_type": "code",
   "execution_count": null,
   "metadata": {},
   "outputs": [],
   "source": [
    "class Numbers {\n",
    "    multi method id ( Numeric $num ) { say \"$num is a number\"       }\n",
    "    multi method id (         $num ) { say \"$num is something else\" }\n",
    "}\n",
    " \n",
    "class SmarterNumbers is Numbers {\n",
    "    multi method id ( Numeric $num where * == π ) { say \"Mmmm yummy pie!\" }\n",
    "}\n",
    " \n",
    "SmarterNumbers.new.id: 42;\n",
    "SmarterNumbers.new.id: π;\n",
    "SmarterNumbers.new.id: 'blah';"
   ]
  },
  {
   "cell_type": "markdown",
   "metadata": {},
   "source": [
    "<a name=\"whatevercode\"></a>\n",
    "## WhateverCode"
   ]
  },
  {
   "cell_type": "markdown",
   "metadata": {},
   "source": [
    "*WhateverCode* est un genre de *closure* avec des paramètres automatiques...."
   ]
  },
  {
   "cell_type": "code",
   "execution_count": null,
   "metadata": {},
   "outputs": [],
   "source": [
    "say ( * + 2 )(2);\n",
    "say sub { $^a + 2 }(2);\n",
    "say sub ( $a ) { $a + 2 }(2);"
   ]
  },
  {
   "cell_type": "markdown",
   "metadata": {},
   "source": [
    "C'est pas mal ce que le nom dit: un n'importe-quoi qui fait exactement ce qu'on veut:"
   ]
  },
  {
   "cell_type": "code",
   "execution_count": null,
   "metadata": {},
   "outputs": [],
   "source": [
    "# des fois, ça remplace le $_:\n",
    "say < 1 25 3 100 >.grep: * > 5;\n",
    "\n",
    "# subset Prime1 of Int where *.is-prime;\n",
    "# subset Prime2 of Int where { $_.is-prime };"
   ]
  },
  {
   "cell_type": "code",
   "execution_count": null,
   "metadata": {},
   "outputs": [],
   "source": [
    "# Des fois, ça sert à ramasser plusieurs arguments:\n",
    "say ( * + * + * )( 2, 3, 4 ); "
   ]
  },
  {
   "cell_type": "code",
   "execution_count": null,
   "metadata": {},
   "outputs": [],
   "source": [
    "# Des fois, c'est un raccourci pour un map:  \n",
    "say ^12 .map: * + * + *;  # un map trois éléments à la fois"
   ]
  },
  {
   "cell_type": "markdown",
   "metadata": {},
   "source": [
    "Série Fibonacci:"
   ]
  },
  {
   "cell_type": "code",
   "execution_count": null,
   "metadata": {},
   "outputs": [],
   "source": [
    "my @fibonacci = 0, 1, * + * ... *;\n",
    "say @fibonacci[5, 8, 10, 37];"
   ]
  },
  {
   "cell_type": "markdown",
   "metadata": {},
   "source": [
    "<a name=concurrency></a>\n",
    "# Concurrency"
   ]
  },
  {
   "cell_type": "markdown",
   "metadata": {},
   "source": [
    "<a name=parallel></a>\n",
    "## Parallel Processing"
   ]
  },
  {
   "cell_type": "markdown",
   "metadata": {},
   "source": [
    "Le traitement en parallel est souvent difficile à gérer, et très difficile à debugger. En fait, sans passer par des processus, la majorité des langages de scripting communs aujourd'hui ont un 'Global Interpreter Lock' qui fait en sorte que on ne peut pas rouler en multi-thread. Il faut alors se pencher sur des processus séparés, ce qui rends les choses plus difficiles encore. "
   ]
  },
  {
   "cell_type": "markdown",
   "metadata": {},
   "source": [
    "<a name=\"hyperoperators\"></a>\n",
    "## Hyper Operators"
   ]
  },
  {
   "cell_type": "markdown",
   "metadata": {},
   "source": [
    "Imaginons que les deux vecteurs `@row1` et `@row2` ont des millions d'éléments. "
   ]
  },
  {
   "cell_type": "code",
   "execution_count": null,
   "metadata": {},
   "outputs": [],
   "source": [
    "my @row1 = 5, 20, 3;\n",
    "my @row2 = 3, 2, 1;\n",
    "\n",
    "# say row_add( @row1, @row2 );"
   ]
  },
  {
   "cell_type": "markdown",
   "metadata": {},
   "source": [
    "Un premier essai très simple: "
   ]
  },
  {
   "cell_type": "code",
   "execution_count": null,
   "metadata": {},
   "outputs": [],
   "source": [
    "sub row_add( @a, @b ) {\n",
    "    die if @a.elems != @b.elems;\n",
    "    \n",
    "    my @result;\n",
    "    for 0 .. @a.end -> $i {\n",
    "        push @result, @a[$i] + @b[$i];\n",
    "        }\n",
    "     return @result;   \n",
    "}"
   ]
  },
  {
   "cell_type": "markdown",
   "metadata": {},
   "source": [
    "C'est sériel, un pas après l'autre. "
   ]
  },
  {
   "cell_type": "code",
   "execution_count": null,
   "metadata": {},
   "outputs": [],
   "source": [
    "sub row_add( @a, @b ) {\n",
    "    die if @a.elems != @b.elems;\n",
    "    \n",
    "    return map { @a[$_] + @b[$_] }, 0 .. @a.end;\n",
    "}"
   ]
  },
  {
   "cell_type": "markdown",
   "metadata": {},
   "source": [
    "La fonction `keys` fournit la liste d'indexes: "
   ]
  },
  {
   "cell_type": "code",
   "execution_count": null,
   "metadata": {},
   "outputs": [],
   "source": [
    "sub row_add( @a, @b ) {\n",
    "    die if @a.elems != @b.elems;\n",
    "    \n",
    "    return map { @a[$_] + @b[$_] }, @a.keys;\n",
    "}"
   ]
  },
  {
   "cell_type": "markdown",
   "metadata": {},
   "source": [
    "L'opérateur Zip (semblable à la fonction zip en python):"
   ]
  },
  {
   "cell_type": "code",
   "execution_count": null,
   "metadata": {},
   "outputs": [],
   "source": [
    "sub row_add( @a, @b ) {\n",
    "    die if @2.elems != @b.elems;\n",
    "\n",
    "    return @a Z+ @b;\n",
    "}"
   ]
  },
  {
   "cell_type": "markdown",
   "metadata": {},
   "source": [
    "Mais toutes ces méthodes sont en série. "
   ]
  },
  {
   "cell_type": "code",
   "execution_count": null,
   "metadata": {},
   "outputs": [],
   "source": [
    "sub row_add( @a, @b ) {\n",
    "    return @a »+« @b; # les deux longeurs doivent être identiques (exception si pas égal)\n",
    "    \n",
    "    #return @a <<+<< @b; retourne resultat de taille de @b, @a est réutilisé\n",
    "    #return @a >>+>> @b; retourne resultat de taille de @a, @b est réutilisé\n",
    "    #return @a <<+>> @b; retourne un résultat de taille du plus grand vecteur, le plus court est réutilisé\n",
    "    \n",
    "}"
   ]
  },
  {
   "cell_type": "code",
   "execution_count": null,
   "metadata": {},
   "outputs": [],
   "source": [
    "say row_add( @row1, @row2 );"
   ]
  },
  {
   "cell_type": "markdown",
   "metadata": {},
   "source": [
    "Les  `hyper-operators` sont potentiellement multi-thread; ils ne forcent pas le multi-thread, mais disent au compilateur que il n'y a pas d'effets secondaires, donc il peut y aller si c'est possible."
   ]
  },
  {
   "cell_type": "code",
   "execution_count": null,
   "metadata": {},
   "outputs": [],
   "source": [
    "say ( 1, 2 ) «+« ( 3, 4, 5 );\n",
    "say ( 1, 2 ) »+» 1;\n",
    "say ( 1, 2, 3, 4 ) «*» ( 1, 2 );"
   ]
  },
  {
   "cell_type": "markdown",
   "metadata": {},
   "source": [
    "Un exemple très utile c'est quand on fait du `scaling`:"
   ]
  },
  {
   "cell_type": "code",
   "execution_count": null,
   "metadata": {},
   "outputs": [],
   "source": [
    "sub scale ( @a, $n ) { return @a »*» $n }"
   ]
  },
  {
   "cell_type": "markdown",
   "metadata": {},
   "source": [
    "Une différence importante entre le meta-operateur `Z` et les hyper-opérateurs « et » est que (autres que le `multi-threading` est que `Z` ne fait qu'un niveau, tandis que « et » traversent complètement la structure. "
   ]
  },
  {
   "cell_type": "markdown",
   "metadata": {},
   "source": [
    "<a name=\"hyperseqs\"></a>\n",
    "## Hyper Sequences"
   ]
  },
  {
   "cell_type": "code",
   "execution_count": null,
   "metadata": {},
   "outputs": [],
   "source": [
    "for (1..4).race( batch => 1 ) {\n",
    "    say \"Doing $_\";\n",
    "    sleep 1;\n",
    "}\n",
    "say \"Code took {now - INIT now} seconds to run\";"
   ]
  },
  {
   "cell_type": "markdown",
   "metadata": {},
   "source": [
    "la methode `race` ne préserve pas l'ordre, `hyper` est identique mais préserve l'ordre. "
   ]
  },
  {
   "cell_type": "markdown",
   "metadata": {},
   "source": [
    "<a name=\"promises\"></a>\n",
    "## Asynchrone (i.e. Promises)"
   ]
  },
  {
   "cell_type": "markdown",
   "metadata": {},
   "source": [
    "Expression asynchrone avec `start`/`await`:"
   ]
  },
  {
   "cell_type": "code",
   "execution_count": null,
   "metadata": {},
   "outputs": [],
   "source": [
    "my @promises = ^3 .map: {\n",
    "    start {\n",
    "        .say; sleep 1;\n",
    "        $_ * 4;\n",
    "    }\n",
    "};\n",
    "say \"Commencé! {now - INIT now}\";\n",
    "say await @promises;\n",
    "say \"Complet! {now - INIT now}\";"
   ]
  },
  {
   "cell_type": "markdown",
   "metadata": {},
   "source": [
    "Une autre variété via la class `Promise`:"
   ]
  },
  {
   "cell_type": "code",
   "execution_count": null,
   "metadata": {},
   "outputs": [],
   "source": [
    "Promise.in(5).then: -> $v { say \"Ça fait {now - INIT now} secondes!\" };\n",
    "sleep 7;\n",
    "say \"Durée total {now - INIT now} secondes\""
   ]
  },
  {
   "cell_type": "markdown",
   "metadata": {},
   "source": [
    "<a name=\"grammars\"></a>\n",
    "# Grammars"
   ]
  },
  {
   "cell_type": "markdown",
   "metadata": {},
   "source": [
    "Perl était reconnu pour ses regexs. MUltiples langages de programmation on copiés ou directement implantés les regexs de perl, même s'ils ne servaient pas autant. Mais les regexs sont difficile à comprendre, même très difficile à écrire moindrement que les textes deviennent compliqués. "
   ]
  },
  {
   "cell_type": "markdown",
   "metadata": {},
   "source": [
    "Prenons, par exemple, une date iso, em perl5 on ferait:"
   ]
  },
  {
   "cell_type": "raw",
   "metadata": {},
   "source": [
    "my $iso_date = qr{\n",
    "    (?<year>\\d\\d\\d\\d) -\n",
    "    (?<month>\\d\\d) -\n",
    "    (?<day>\\d\\d)\n",
    "}msx;\n",
    "#year is in $+{year}\n"
   ]
  },
  {
   "cell_type": "markdown",
   "metadata": {},
   "source": [
    "mais, si on a besoin de lire deux dates, on fait quoi?  Prenons un fichier avec des lignes tel que: `IsoDate IsoDate Titre`"
   ]
  },
  {
   "cell_type": "code",
   "execution_count": null,
   "metadata": {},
   "outputs": [],
   "source": [
    "grammar LogLine {\n",
    "    token year  { <.digit> ** 4 <?{ $/.Num >= 1900  }> }\n",
    "    token month { <.digit> ** 2 <?{ $/.Num ~~ 1..12 }> }\n",
    "    token day   { <.digit> ** 2 <?{ $/.Num ~~ 1..31 }> }\n",
    "    \n",
    "    token ISO-Date { <year> '-' <month> '-' <day> }\n",
    "    regex book-name { \\S .*? }\n",
    "    token start-date { <ISO-Date> }\n",
    "    token stop-date  { <ISO-Date> }\n",
    "    rule TOP { ^ <start-date> <stop-date> <book-name> $ }\n",
    "    }"
   ]
  },
  {
   "cell_type": "code",
   "execution_count": null,
   "metadata": {},
   "outputs": [],
   "source": [
    "my $line = ' 2010-02-28 2015-03-14 Harry Potter and the Methods of Rationality';\n",
    "\n",
    "LogLine.parse($line) or die;\n",
    "\n",
    "say $/<book-name>.Str.perl;"
   ]
  },
  {
   "cell_type": "markdown",
   "metadata": {},
   "source": [
    "`Grammar` crée un `recursive-descent` parser. Pour faciliter les choses, il y a deux outils `Grammar::Tracer` et `Grammar::Debugger` pour aider à vérfier le code. "
   ]
  }
 ],
 "metadata": {
  "kernelspec": {
   "display_name": "Raku",
   "language": "raku",
   "name": "raku"
  },
  "language_info": {
   "name": ""
  }
 },
 "nbformat": 4,
 "nbformat_minor": 4
}
