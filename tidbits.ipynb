{
 "cells": [
  {
   "cell_type": "markdown",
   "metadata": {},
   "source": [
    "# Table des Matières\n",
    "* [Nombres](#nombres)\n",
    "   - [Nombres aléatoires](#aléatoires)\n",
    "   - [Précision des calculs](#précision)\n",
    "* [Fonctions](#functions)\n",
    "   - [Gradual Typing](#gradual)\n",
    "   - [Subsets](#subsets)\n",
    "   - [Multi-Methods](#methods)\n",
    "* [Concurrency](#concurrency)\n",
    "   - [Parallel Processing](#parallel)\n",
    "   - [Hyper Operators](#hyperoperators)\n",
    "   - [Hyper Sequences](#hyperseqs)\n",
    "   - [Asynchrone](#promises)\n",
    "* [Grammars](#grammars)   \n"
   ]
  },
  {
   "cell_type": "markdown",
   "metadata": {},
   "source": [
    "<a name=\"nombres\"> </a>\n",
    "# Nombres"
   ]
  },
  {
   "cell_type": "markdown",
   "metadata": {},
   "source": [
    "<a name=\"aléatoires\"> </a>\n",
    "## Nombres aléatoires\n",
    "\n",
    "Ceci est un problème généralisé, depuis toujours. Est-ce que votre langage de programmation as un mot clé `rand`, qui donne une réponse entre 0 et presque 1, ou une fonction `rand()`, qui donne une réponse entre 1 et l'argument?  Est-ce que c'est en point flottant? Est-ce qu'il faut l'arrondir? le tronquer? \n"
   ]
  },
  {
   "cell_type": "markdown",
   "metadata": {},
   "source": [
    "Raku fournit une fonction `roll` qui sélectionne au hasard un élément d'une liste (plutôt que de générer un entier)"
   ]
  },
  {
   "cell_type": "code",
   "execution_count": 36,
   "metadata": {},
   "outputs": [
    {
     "data": {
      "text/plain": [
       "1561"
      ]
     },
     "execution_count": 36,
     "metadata": {},
     "output_type": "execute_result"
    }
   ],
   "source": [
    "(1000..9999).roll;"
   ]
  },
  {
   "cell_type": "markdown",
   "metadata": {},
   "source": [
    "Un exemple du genre d'utilisation: voici un dungeon master qui veut donner des attributs au hasrd à un joueur: "
   ]
  },
  {
   "cell_type": "code",
   "execution_count": 48,
   "metadata": {},
   "outputs": [
    {
     "name": "stdout",
     "output_type": "stream",
     "text": [
      "Str: 14\n",
      "Int: 8\n",
      "Dex: 11\n",
      "Con: 9\n",
      "Cha: 10\n"
     ]
    }
   ],
   "source": [
    "my @attributes = <Str Int Dex Con Cha>;\n",
    "\n",
    "my @d6 = 1..6;\n",
    "\n",
    "for @attributes -> $atr {\n",
    "    my $stat = @d6.roll(3).sum;\n",
    "\n",
    "    say \"$atr: $stat\"; \n",
    "}"
   ]
  },
  {
   "cell_type": "markdown",
   "metadata": {},
   "source": [
    "Mais peut-être un dungeon master plus généreux prendrait les meilleurs 3 dés sur 5:"
   ]
  },
  {
   "cell_type": "code",
   "execution_count": 47,
   "metadata": {},
   "outputs": [
    {
     "name": "stdout",
     "output_type": "stream",
     "text": [
      "Str: 17\n",
      "Int: 12\n",
      "Dex: 10\n",
      "Con: 16\n",
      "Cha: 15\n"
     ]
    }
   ],
   "source": [
    "my @attributes = <Str Int Dex Con Cha>;\n",
    "\n",
    "my @d6 = 1..6;\n",
    "\n",
    "for @attributes -> $atr {\n",
    "    my $stat = @d6\n",
    "        .roll(5)\n",
    "        .sort(-*)\n",
    "        .head(3).sum;\n",
    "        \n",
    "    say \"$atr: $stat\"; \n",
    "}"
   ]
  },
  {
   "cell_type": "markdown",
   "metadata": {},
   "source": [
    "Enfin, `roll` permet la duplication, fait la sélection avec des doubles. Mais si ont veut avoir une sélection sans doubles? "
   ]
  },
  {
   "cell_type": "code",
   "execution_count": 57,
   "metadata": {},
   "outputs": [
    {
     "name": "stdout",
     "output_type": "stream",
     "text": [
      "(Bob Bob Jean)\n"
     ]
    }
   ],
   "source": [
    "my @friends = <Bob Martial Jean Freddie Bob Simon Jean>;\n",
    "say @friends.pick(3);"
   ]
  },
  {
   "cell_type": "markdown",
   "metadata": {},
   "source": [
    "<a name=\"précision\"></a> \n",
    "## Précision des calculs"
   ]
  },
  {
   "cell_type": "markdown",
   "metadata": {},
   "source": [
    "Le point-flottant est un problème depuis toujours. Sur STack Overflow, il y a d'innombrables questions dur le poinmt flottant. \n",
    "\n",
    "En mathèmathiques, l'énoncé `0.3 = 0.1 + 0.2`  est vrai. Mais, en python? en ruby?"
   ]
  },
  {
   "cell_type": "code",
   "execution_count": 77,
   "metadata": {},
   "outputs": [
    {
     "data": {
      "text/plain": [
       "Undeclared routine:\n",
       "    ruby used at line 2\n"
      ]
     },
     "execution_count": 77,
     "metadata": {},
     "output_type": "execute_result"
    }
   ],
   "source": [
    "!ruby 'puts 0.3 == 0.1 + 0.2 ? \"Yes\" : \"no\" '"
   ]
  },
  {
   "cell_type": "markdown",
   "metadata": {},
   "source": [
    "Python, Perl5, C, et maintes autres langages donnent la même reponse. "
   ]
  },
  {
   "cell_type": "markdown",
   "metadata": {},
   "source": [
    "Mais, en Raku, la réponse est correcte!"
   ]
  },
  {
   "cell_type": "code",
   "execution_count": 79,
   "metadata": {},
   "outputs": [
    {
     "name": "stdout",
     "output_type": "stream",
     "text": [
      "yes\n"
     ]
    }
   ],
   "source": [
    "say 0.1 + 0.2 == 0.3 ?? \"yes\" !! \"No\" ;"
   ]
  },
  {
   "cell_type": "code",
   "execution_count": 81,
   "metadata": {},
   "outputs": [
    {
     "name": "stdout",
     "output_type": "stream",
     "text": [
      "(3 10)\n"
     ]
    }
   ],
   "source": [
    "say 0.3.nude;"
   ]
  },
  {
   "cell_type": "code",
   "execution_count": 82,
   "metadata": {},
   "outputs": [
    {
     "name": "stdout",
     "output_type": "stream",
     "text": [
      "(17 60)\n"
     ]
    }
   ],
   "source": [
    "say (1/12 + 1/5).nude;"
   ]
  },
  {
   "cell_type": "code",
   "execution_count": 83,
   "metadata": {},
   "outputs": [
    {
     "data": {
      "text/plain": [
       "(Rat)"
      ]
     },
     "execution_count": 83,
     "metadata": {},
     "output_type": "execute_result"
    }
   ],
   "source": [
    "0.3.WHAT"
   ]
  },
  {
   "cell_type": "markdown",
   "metadata": {},
   "source": [
    "Dans Haskell, ce sont des \"Rationals\". Dans Raku, ce sont des Rat. (Et si les chiffres deviennent assez frands, des BigRat)"
   ]
  },
  {
   "cell_type": "markdown",
   "metadata": {},
   "source": [
    "C'est plus lent que du point-flottant `hardware`, mais ça donne la bonne réponse, ce que le point flottant ne fait pas. "
   ]
  },
  {
   "cell_type": "markdown",
   "metadata": {},
   "source": [
    "Un autre exemple: 7\\over 3"
   ]
  },
  {
   "cell_type": "code",
   "execution_count": 86,
   "metadata": {},
   "outputs": [
    {
     "name": "stdout",
     "output_type": "stream",
     "text": [
      "-2.333333\n"
     ]
    }
   ],
   "source": [
    "say -7/3;"
   ]
  },
  {
   "cell_type": "markdown",
   "metadata": {},
   "source": [
    "Dans d'autres langages, on a les résultats suivants: \n",
    "\n"
   ]
  },
  {
   "cell_type": "markdown",
   "metadata": {},
   "source": [
    "<a name=\"functions\"></a> \n",
    "# Fonctions"
   ]
  },
  {
   "cell_type": "markdown",
   "metadata": {},
   "source": [
    "Des fonctions, methodes ou lambdas en raku sont des appelés des`subroutines`. Il y a maintes façons de les déclarer:"
   ]
  },
  {
   "cell_type": "code",
   "execution_count": 124,
   "metadata": {},
   "outputs": [
    {
     "name": "stdout",
     "output_type": "stream",
     "text": [
      "Look ma, no args!\n"
     ]
    }
   ],
   "source": [
    "sub my-func { say \"Look ma, no args!\" }\n",
    "my-func;"
   ]
  },
  {
   "cell_type": "code",
   "execution_count": null,
   "metadata": {},
   "outputs": [],
   "source": [
    "On peut les placer dans n'importe quel contenant (ou pas)"
   ]
  },
  {
   "cell_type": "code",
   "execution_count": 12,
   "metadata": {},
   "outputs": [
    {
     "name": "stdout",
     "output_type": "stream",
     "text": [
      "Look ma, no name!\n",
      "Still nameless...\n",
      "also nameless\n",
      "raw containers don't implement postcircumfix:<( )>\n"
     ]
    }
   ],
   "source": [
    "my &c = sub { say \"Look ma, no name!\" }\n",
    "c;     # OUTPUT: «Look ma, no name!␤» \n",
    " \n",
    "my Any:D $f = sub { say 'Still nameless...' }\n",
    "$f();  # OUTPUT: «Still nameless...␤» \n",
    "\n",
    "my $nameless = -> { say 'also nameless' } # un `pointy block`\n",
    "$nameless();\n",
    " \n",
    "my Code \\a = sub { say ‚raw containers don't implement postcircumfix:<( )>‘ };\n",
    "a.();  # OUTPUT: «raw containers don't implement postcircumfix:<( )>␤»"
   ]
  },
  {
   "cell_type": "markdown",
   "metadata": {},
   "source": [
    "Une fonction peut recevoir des arguments, séparés par des virgules, même avec des valeurs par défault:"
   ]
  },
  {
   "cell_type": "code",
   "execution_count": 125,
   "metadata": {},
   "outputs": [
    {
     "name": "stdout",
     "output_type": "stream",
     "text": [
      "Salut, mon chum John !!!!\n"
     ]
    }
   ],
   "source": [
    "sub exclaim ( $phrase, $name = 'John' ) {\n",
    "    say \"$phrase $name !!!!\";\n",
    "}\n",
    "\n",
    "exclaim( 'Salut, mon chum' );"
   ]
  },
  {
   "cell_type": "markdown",
   "metadata": {},
   "source": [
    "<a name=\"gradual\"></a>\n",
    "## Gradual Typing"
   ]
  },
  {
   "cell_type": "markdown",
   "metadata": {},
   "source": [
    "`Gradual typing` veut dire qu'on n'a pas besoin de spécifier des types d'arguments pour une fonction, mais si on les spécifie, ça permet de mieux gérer la compilation et l'exécution. Raku amène ça un peu plus loin que d'autres. "
   ]
  },
  {
   "cell_type": "markdown",
   "metadata": {},
   "source": [
    "L'ensemble d'arguments ainsi que la valeur de retour est la signature d'une fonction. "
   ]
  },
  {
   "cell_type": "code",
   "execution_count": 126,
   "metadata": {},
   "outputs": [
    {
     "name": "stdout",
     "output_type": "stream",
     "text": [
      "1: This must be a string\n",
      "True\n",
      "3.141592653589793\n"
     ]
    }
   ],
   "source": [
    "sub fmt( $lineno, Str $str ) {\n",
    "    say \"$lineno: $str\";\n",
    "}\n",
    "    \n",
    "fmt( 1, \"This must be a string\" );\n",
    "#fmt 2, [ 1, 2, 3];\n",
    "#fmt 3, π;\n",
    "say pi == π;\n",
    "say pi;\n"
   ]
  },
  {
   "cell_type": "markdown",
   "metadata": {},
   "source": [
    "On peut aussi mettre des contraintes:"
   ]
  },
  {
   "cell_type": "code",
   "execution_count": 123,
   "metadata": {},
   "outputs": [
    {
     "name": "stdout",
     "output_type": "stream",
     "text": [
      "1, afive\n"
     ]
    },
    {
     "data": {
      "text/plain": [
       "Constraint type check failed in binding to parameter '$lineno'; expected anonymous constraint to be met but got Int (12)"
      ]
     },
     "execution_count": 123,
     "metadata": {},
     "output_type": "execute_result"
    }
   ],
   "source": [
    "    sub fmt( $lineno where * < 10, Str $str where *.chars == 5 ) {\n",
    "        say \"$lineno, $str\";\n",
    "    }\n",
    "    \n",
    "    #fmt( 1, \"This must be a string\" );\n",
    "    fmt( 1, \"afive\");\n",
    "    fmt(12,\"afive\");"
   ]
  },
  {
   "cell_type": "markdown",
   "metadata": {},
   "source": [
    "<a name=\"subsets\"></a>\n",
    "## Subsets"
   ]
  },
  {
   "cell_type": "markdown",
   "metadata": {},
   "source": [
    "Une autre façon de faire ce genre de chose est de déclarer des types avec contraintes:"
   ]
  },
  {
   "cell_type": "code",
   "execution_count": 121,
   "metadata": {},
   "outputs": [
    {
     "data": {
      "text/plain": [
       "Redeclaration of symbol 'SmallStr'"
      ]
     },
     "execution_count": 121,
     "metadata": {},
     "output_type": "execute_result"
    }
   ],
   "source": [
    "subset SmallStr of Str where *.chars < 10;"
   ]
  },
  {
   "cell_type": "code",
   "execution_count": 159,
   "metadata": {},
   "outputs": [
    {
     "name": "stdout",
     "output_type": "stream",
     "text": [
      "This string must be less that 10 chars: tiny twit\n"
     ]
    }
   ],
   "source": [
    "sub baby-twitter( SmallStr $str ) {\n",
    "   say \"This string must be less that 10 chars: $str\"\n",
    "}\n",
    "\n",
    "#baby-twitter 'a longer string';\n",
    "baby-twitter 'tiny twit';"
   ]
  },
  {
   "cell_type": "markdown",
   "metadata": {},
   "source": [
    "<a name=\"methods\"></a>\n",
    "## Multi-Methods"
   ]
  },
  {
   "cell_type": "markdown",
   "metadata": {},
   "source": [
    "Plusieurs langages de programmation oint la capacité de définir plusieurs fois la même fonction ou methode, distingué par des arguments différents.\n",
    "Raku amène ça à un autre niveau."
   ]
  },
  {
   "cell_type": "code",
   "execution_count": 169,
   "metadata": {},
   "outputs": [
    {
     "data": {
      "text/plain": [
       "Redeclaration of symbol 'Prime'"
      ]
     },
     "execution_count": 169,
     "metadata": {},
     "output_type": "execute_result"
    }
   ],
   "source": [
    "subset Prime      of Int   where *.is-prime;\n",
    "subset BigPrime   of Prime where * >  10_000;\n",
    "subset SmallPrime of Prime where * <= 10_000;"
   ]
  },
  {
   "cell_type": "code",
   "execution_count": 167,
   "metadata": {},
   "outputs": [
    {
     "data": {
      "text/plain": [
       "&test-prime"
      ]
     },
     "execution_count": 167,
     "metadata": {},
     "output_type": "execute_result"
    }
   ],
   "source": [
    "multi sub test-prime ( BigPrime   $num ) { say \"Prime number! Nice and big\"; }\n",
    "multi sub test-prime ( SmallPrime $num ) { say \"Puny prime number\";          }\n",
    "multi sub test-prime (            $num ) { say \"Gimme primes!\";              }"
   ]
  },
  {
   "cell_type": "code",
   "execution_count": 168,
   "metadata": {},
   "outputs": [
    {
     "name": "stdout",
     "output_type": "stream",
     "text": [
      "Puny prime number\n",
      "Prime number! Nice and big\n"
     ]
    },
    {
     "data": {
      "text/plain": [
       "Ambiguous call to 'test-prime(Int)'; these signatures all match:\n",
       ":($num)\n",
       ":($num)\n",
       ":($num)"
      ]
     },
     "execution_count": 168,
     "metadata": {},
     "output_type": "execute_result"
    }
   ],
   "source": [
    "test-prime 3;\n",
    "test-prime(31337);\n",
    "test-prime 100_000;"
   ]
  },
  {
   "cell_type": "markdown",
   "metadata": {},
   "source": [
    "On peut même étendre des classes:"
   ]
  },
  {
   "cell_type": "code",
   "execution_count": 171,
   "metadata": {},
   "outputs": [
    {
     "name": "stdout",
     "output_type": "stream",
     "text": [
      "42 is a number\n",
      "Mmmm yummy pie!\n",
      "blah is something else\n"
     ]
    }
   ],
   "source": [
    "class Numbers {\n",
    "    multi method id ( Numeric $num ) { say \"$num is a number\"       }\n",
    "    multi method id (         $num ) { say \"$num is something else\" }\n",
    "}\n",
    " \n",
    "class SmarterNumbers is Numbers {\n",
    "    multi method id ( Numeric $num where * == π ) { say \"Mmmm yummy pie!\" }\n",
    "}\n",
    " \n",
    "SmarterNumbers.new.id: 42;\n",
    "SmarterNumbers.new.id: π;\n",
    "SmarterNumbers.new.id: 'blah';"
   ]
  },
  {
   "cell_type": "markdown",
   "metadata": {},
   "source": [
    "<a name=concurrency></a>\n",
    "# Concurrency"
   ]
  },
  {
   "cell_type": "markdown",
   "metadata": {},
   "source": [
    "<a name=parallel></a>\n",
    "## Parallel Processing"
   ]
  },
  {
   "cell_type": "markdown",
   "metadata": {},
   "source": [
    "Le traitement en parallel est souvent difficile à gérer, et très difficile à debugger. En fait, sans passer par des processus, la majorité des langages de scripting communs aujourd'hui ont un 'Global Interpreter Lock' qui fait en sorte que on ne peut pas rouler en multi-thread. Il faut alors se pencher sur des processus séparés, ce qui rends les choses plus difficiles encore. "
   ]
  },
  {
   "cell_type": "markdown",
   "metadata": {},
   "source": [
    "<a name=\"hyperoperators\"></a>\n",
    "## Hyper Operators"
   ]
  },
  {
   "cell_type": "markdown",
   "metadata": {},
   "source": [
    "Imaginons que les deux vecteurs `@row1` et `@row2` ont des millions d'éléments. "
   ]
  },
  {
   "cell_type": "code",
   "execution_count": 137,
   "metadata": {},
   "outputs": [
    {
     "data": {
      "text/plain": [
       "[3 2 1]"
      ]
     },
     "execution_count": 137,
     "metadata": {},
     "output_type": "execute_result"
    }
   ],
   "source": [
    "my @row1 = 5, 20, 3;\n",
    "my @row2 = 3, 2, 1;\n",
    "\n",
    "# say row_add( @row1, @row2 );"
   ]
  },
  {
   "cell_type": "markdown",
   "metadata": {},
   "source": [
    "Un premier essai très simple: "
   ]
  },
  {
   "cell_type": "code",
   "execution_count": 128,
   "metadata": {},
   "outputs": [
    {
     "data": {
      "text/plain": [
       "&row_add"
      ]
     },
     "execution_count": 128,
     "metadata": {},
     "output_type": "execute_result"
    }
   ],
   "source": [
    "sub row_add( @a, @b ) {\n",
    "    die if @a.elems != @b.elems;\n",
    "    \n",
    "    my @result;\n",
    "    for 0 .. @a.end -> $i {\n",
    "        push @result, @a[$i] + @b[$i];\n",
    "        }\n",
    "     return @result;   \n",
    "}"
   ]
  },
  {
   "cell_type": "markdown",
   "metadata": {},
   "source": [
    "C'est sériel, un pas après l'autre. "
   ]
  },
  {
   "cell_type": "code",
   "execution_count": 145,
   "metadata": {},
   "outputs": [
    {
     "data": {
      "text/plain": [
       "&row_add"
      ]
     },
     "execution_count": 145,
     "metadata": {},
     "output_type": "execute_result"
    }
   ],
   "source": [
    "sub row_add( @a, @b ) {\n",
    "    die if @a.elems != @b.elems;\n",
    "    \n",
    "    return map { @a[$_] + @b[$_] }, 0 .. @a.end;\n",
    "}"
   ]
  },
  {
   "cell_type": "markdown",
   "metadata": {},
   "source": [
    "La fonction `keys` fournit la liste d'indexes: "
   ]
  },
  {
   "cell_type": "code",
   "execution_count": 155,
   "metadata": {},
   "outputs": [
    {
     "data": {
      "text/plain": [
       "&row_add"
      ]
     },
     "execution_count": 155,
     "metadata": {},
     "output_type": "execute_result"
    }
   ],
   "source": [
    "sub row_add( @a, @b ) {\n",
    "    die if @a.elems != @b.elems;\n",
    "    \n",
    "    return map { @a[$_] + @b[$_] }, @a.keys;\n",
    "}"
   ]
  },
  {
   "cell_type": "markdown",
   "metadata": {},
   "source": [
    "L'opérateur Zip (semblable à la fonction zip en python):"
   ]
  },
  {
   "cell_type": "code",
   "execution_count": 134,
   "metadata": {},
   "outputs": [
    {
     "data": {
      "text/plain": [
       "&row_add"
      ]
     },
     "execution_count": 134,
     "metadata": {},
     "output_type": "execute_result"
    }
   ],
   "source": [
    "sub row_add( @a, @b ) {\n",
    "    die if @2.elems != @b.elems;\n",
    "\n",
    "    return @a Z+ @b;\n",
    "}"
   ]
  },
  {
   "cell_type": "markdown",
   "metadata": {},
   "source": [
    "Mais toutes ces méthodes sont en série. "
   ]
  },
  {
   "cell_type": "code",
   "execution_count": 156,
   "metadata": {},
   "outputs": [
    {
     "data": {
      "text/plain": [
       "&row_add"
      ]
     },
     "execution_count": 156,
     "metadata": {},
     "output_type": "execute_result"
    }
   ],
   "source": [
    "sub row_add( @a, @b ) {\n",
    "    return @a »+« @b; # les deux longeurs doivent être identiques (exception si pas égal)\n",
    "    \n",
    "    #return @a <<+<< @b; retourne resultat de taille de @b, @a est réutilisé\n",
    "    #return @a >>+>> @b; retourne resultat de taille de @a, @b est réutilisé\n",
    "    #return @a <<+>> @b; retourne un résultat de taille du plus grand vecteur, le plus court est réutilisé\n",
    "    \n",
    "}"
   ]
  },
  {
   "cell_type": "code",
   "execution_count": 138,
   "metadata": {},
   "outputs": [
    {
     "name": "stdout",
     "output_type": "stream",
     "text": [
      "[8 22 4]\n"
     ]
    }
   ],
   "source": [
    "say row_add( @row1, @row2 );"
   ]
  },
  {
   "cell_type": "markdown",
   "metadata": {},
   "source": [
    "Les  `hyper-operators` sont potentiellement multi-thread; ils ne forcent pas le multi-thread, mais disent au compilateur que il n'y a pas d'effets secondaires, donc il peut y aller si c'est possible."
   ]
  },
  {
   "cell_type": "markdown",
   "metadata": {},
   "source": [
    "Un exemple très utile c'est quand on fait du `scaling`:"
   ]
  },
  {
   "cell_type": "code",
   "execution_count": 84,
   "metadata": {},
   "outputs": [
    {
     "data": {
      "text/plain": [
       "&scale"
      ]
     },
     "execution_count": 84,
     "metadata": {},
     "output_type": "execute_result"
    }
   ],
   "source": [
    "sub scale ( @a, $n ) { return @a »*» $n }"
   ]
  },
  {
   "cell_type": "markdown",
   "metadata": {},
   "source": [
    "Une différence importante entre le meta-operateur `Z` et les hyper-opérateurs « et » est que (autres que le `multi-threading` est que `Z` ne fait qu'un niveau, tandis que « et » traversent complètement la structure. "
   ]
  },
  {
   "cell_type": "markdown",
   "metadata": {},
   "source": [
    "<a name=\"hyperseqs\"></a>\n",
    "## Hyper Sequences"
   ]
  },
  {
   "cell_type": "code",
   "execution_count": 177,
   "metadata": {},
   "outputs": [
    {
     "name": "stdout",
     "output_type": "stream",
     "text": [
      "Doing 1\n",
      "Doing 2\n",
      "Doing 3\n",
      "Doing 4\n",
      "Code took 4.01894736 seconds to run\n"
     ]
    }
   ],
   "source": [
    "for (1..4).race( batch => 1 ) {\n",
    "    say \"Doing $_\";\n",
    "    sleep 1;\n",
    "}\n",
    "say \"Code took {now - INIT now} seconds to run\";"
   ]
  },
  {
   "cell_type": "markdown",
   "metadata": {},
   "source": [
    "la methode `race` ne préserve pas l'ordre, `hyper` est identique mais préserve l'ordre. "
   ]
  },
  {
   "cell_type": "markdown",
   "metadata": {},
   "source": [
    "<a name=\"promises\"></a>\n",
    "## Asynchrone (i.e. Promises)"
   ]
  },
  {
   "cell_type": "markdown",
   "metadata": {},
   "source": [
    "Expression asynchrone avec `start`/`await`:"
   ]
  },
  {
   "cell_type": "code",
   "execution_count": 179,
   "metadata": {},
   "outputs": [
    {
     "name": "stdout",
     "output_type": "stream",
     "text": [
      "0\n",
      "2\n",
      "1\n",
      "Commencé! 0.0004653\n",
      "(0 4 8)\n",
      "Complet! 1.00308921\n"
     ]
    }
   ],
   "source": [
    "my @promises = ^3 .map: {\n",
    "    start {\n",
    "        .say; sleep 1;\n",
    "        $_ * 4;\n",
    "    }\n",
    "};\n",
    "say \"Commencé! {now - INIT now}\";\n",
    "say await @promises;\n",
    "say \"Complet! {now - INIT now}\";"
   ]
  },
  {
   "cell_type": "markdown",
   "metadata": {},
   "source": [
    "Une autre variété via la class `Promise`:"
   ]
  },
  {
   "cell_type": "code",
   "execution_count": 182,
   "metadata": {},
   "outputs": [
    {
     "name": "stdout",
     "output_type": "stream",
     "text": [
      "Ça fait 5.00524502 secondes!\n",
      "Durée total 7.00046612 secondes\n"
     ]
    }
   ],
   "source": [
    "Promise.in(5).then: -> $v { say \"Ça fait {now - INIT now} secondes!\" };\n",
    "sleep 7;\n",
    "say \"Durée total {now - INIT now} secondes\""
   ]
  },
  {
   "cell_type": "markdown",
   "metadata": {},
   "source": [
    "<a name=\"grammars\"></a>\n",
    "# Grammars"
   ]
  },
  {
   "cell_type": "markdown",
   "metadata": {},
   "source": [
    "Perl était reconnu pour ses regexs. MUltiples langages de programmation on copiés ou directement implantés les regexs de perl, même s'ils ne servaient pas autant. Mais les regexs sont difficile à comprendre, même très difficile à écrire moindrement que les textes deviennent compliqués. "
   ]
  },
  {
   "cell_type": "markdown",
   "metadata": {},
   "source": [
    "Prenons, par exemple, une date iso, em perl5 on ferait:"
   ]
  },
  {
   "cell_type": "raw",
   "metadata": {},
   "source": [
    "my $iso_date = qr{\n",
    "    (?<year>\\d\\d\\d\\d) -\n",
    "    (?<month>\\d\\d) -\n",
    "    (?<day>\\d\\d)\n",
    "}msx;\n",
    "#year is in $+{year}\n"
   ]
  },
  {
   "cell_type": "markdown",
   "metadata": {},
   "source": [
    "mais, si on a besoin de lire deux dates, on fait quoi?  Prenons un fichier avec des lignes tel que: `IsoDate IsoDate Titre`"
   ]
  },
  {
   "cell_type": "code",
   "execution_count": 175,
   "metadata": {},
   "outputs": [
    {
     "data": {
      "text/plain": [
       "Redeclaration of symbol 'LogLine3'"
      ]
     },
     "execution_count": 175,
     "metadata": {},
     "output_type": "execute_result"
    }
   ],
   "source": [
    "grammar LogLine {\n",
    "    token year  { <.digit> ** 4 <?{ $/.Num >= 1900  }> }\n",
    "    token month { <.digit> ** 2 <?{ $/.Num ~~ 1..12 }> }\n",
    "    token day   { <.digit> ** 2 <?{ $/.Num ~~ 1..31 }> }\n",
    "    \n",
    "    token ISO-Date { <year> '-' <month> '-' <day> }\n",
    "    regex book-name { \\S .*? }\n",
    "    token start-date { <ISO-Date> }\n",
    "    token stop-date  { <ISO-Date> }\n",
    "    rule TOP { ^ <start-date> <stop-date> <book-name> $ }\n",
    "    }"
   ]
  },
  {
   "cell_type": "code",
   "execution_count": 174,
   "metadata": {},
   "outputs": [
    {
     "name": "stdout",
     "output_type": "stream",
     "text": [
      "\"Harry Potter and the Methods of Rationality\"\n"
     ]
    }
   ],
   "source": [
    "my $line = ' 2010-02-28 2015-03-14 Harry Potter and the Methods of Rationality';\n",
    "\n",
    "LogLine.parse($line) or die;\n",
    "\n",
    "say $/<book-name>.Str.perl;"
   ]
  },
  {
   "cell_type": "markdown",
   "metadata": {},
   "source": [
    "`Grammar` crée un `recursive-descent` parser. Pour faciliter les choses, il y a deux outils `Grammar::Tracer` et `Grammar::Debugger` pour aider à vérfier le code. "
   ]
  },
  {
   "cell_type": "markdown",
   "metadata": {},
   "source": [
    "### Palindromes"
   ]
  },
  {
   "cell_type": "code",
   "execution_count": 76,
   "metadata": {},
   "outputs": [
    {
     "name": "stdout",
     "output_type": "stream",
     "text": [
      "19\n"
     ]
    }
   ],
   "source": [
    "say (^100).grep({ $_ eq $_.flip }).elems;"
   ]
  },
  {
   "cell_type": "code",
   "execution_count": null,
   "metadata": {},
   "outputs": [],
   "source": []
  }
 ],
 "metadata": {
  "kernelspec": {
   "display_name": "Raku",
   "language": "raku",
   "name": "raku"
  },
  "language_info": {
   "name": ""
  }
 },
 "nbformat": 4,
 "nbformat_minor": 4
}
