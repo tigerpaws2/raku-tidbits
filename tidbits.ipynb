{
 "cells": [
  {
   "cell_type": "markdown",
   "metadata": {},
   "source": [
    "# Nombres"
   ]
  },
  {
   "cell_type": "markdown",
   "metadata": {},
   "source": [
    "## Nombres alèatoires\n",
    "\n",
    "Ceci est un problème généralisé, depuis toujours. Est-ce que votre langage de programmation as un mot clé `rand`, qui donne une réponse entre 0 et presque 1, ou une fonction `rand()`, qui donne une réponse entre 1 et l'argument?  Est-ce que c'est en point flottant? Est-ce qu'il faut l'arrondir? le tronquer? \n"
   ]
  },
  {
   "cell_type": "markdown",
   "metadata": {},
   "source": [
    "Raku fournit une fonction `roll` qui sélectionne au hasard un élément d'une liste (plutôt que de générer un entier)"
   ]
  },
  {
   "cell_type": "code",
   "execution_count": 36,
   "metadata": {},
   "outputs": [
    {
     "data": {
      "text/plain": [
       "1561"
      ]
     },
     "execution_count": 36,
     "metadata": {},
     "output_type": "execute_result"
    }
   ],
   "source": [
    "(1000..9999).roll;"
   ]
  },
  {
   "cell_type": "markdown",
   "metadata": {},
   "source": [
    "Un exemple du genre d'utilisation: voici un dungeon master qui veut donner des attributs au hasrd à un joueur: "
   ]
  },
  {
   "cell_type": "code",
   "execution_count": 48,
   "metadata": {},
   "outputs": [
    {
     "name": "stdout",
     "output_type": "stream",
     "text": [
      "Str: 14\n",
      "Int: 8\n",
      "Dex: 11\n",
      "Con: 9\n",
      "Cha: 10\n"
     ]
    }
   ],
   "source": [
    "my @attributes = <Str Int Dex Con Cha>;\n",
    "\n",
    "my @d6 = 1..6;\n",
    "\n",
    "for @attributes -> $atr {\n",
    "    my $stat = @d6.roll(3).sum;\n",
    "\n",
    "    say \"$atr: $stat\"; \n",
    "}"
   ]
  },
  {
   "cell_type": "markdown",
   "metadata": {},
   "source": [
    "Mais peut-être un dungeon master plus généreux prendrait les meilleurs 3 dés sur 5:"
   ]
  },
  {
   "cell_type": "code",
   "execution_count": 47,
   "metadata": {},
   "outputs": [
    {
     "name": "stdout",
     "output_type": "stream",
     "text": [
      "Str: 17\n",
      "Int: 12\n",
      "Dex: 10\n",
      "Con: 16\n",
      "Cha: 15\n"
     ]
    }
   ],
   "source": [
    "my @attributes = <Str Int Dex Con Cha>;\n",
    "\n",
    "my @d6 = 1..6;\n",
    "\n",
    "for @attributes -> $atr {\n",
    "    my $stat = @d6\n",
    "        .roll(5)\n",
    "        .sort(-*)\n",
    "        .head(3).sum;\n",
    "        \n",
    "    say \"$atr: $stat\"; \n",
    "}"
   ]
  },
  {
   "cell_type": "markdown",
   "metadata": {},
   "source": [
    "Enfin, `roll` permet la duplication, fait la sélection avec des doubles. Mais si ont veut avoir une sélection sans doubles? "
   ]
  },
  {
   "cell_type": "code",
   "execution_count": 57,
   "metadata": {},
   "outputs": [
    {
     "name": "stdout",
     "output_type": "stream",
     "text": [
      "(Bob Bob Jean)\n"
     ]
    }
   ],
   "source": [
    "my @friends = <Bob Martial Jean Freddie Bob Simon Jean>;\n",
    "say @friends.pick(3);"
   ]
  },
  {
   "cell_type": "markdown",
   "metadata": {},
   "source": [
    "## Précision des calculs"
   ]
  },
  {
   "cell_type": "markdown",
   "metadata": {},
   "source": [
    "Le point-flottant est un problème depuis toujours. Sur STack Overflow, il y a d'innombrables questions dur le poinmt flottant. \n",
    "\n",
    "En mathèmathiques, l'énoncé `0.3 = 0.1+0.2`  est vrai. Mais, en ruby?"
   ]
  },
  {
   "cell_type": "code",
   "execution_count": 77,
   "metadata": {},
   "outputs": [
    {
     "data": {
      "text/plain": [
       "Undeclared routine:\n",
       "    ruby used at line 2\n"
      ]
     },
     "execution_count": 77,
     "metadata": {},
     "output_type": "execute_result"
    }
   ],
   "source": [
    "!ruby 'puts 0.3 == 0.1 + 0.2 ? \"Yes\" : \"no\" '"
   ]
  },
  {
   "cell_type": "markdown",
   "metadata": {},
   "source": [
    "Python, Perl5, C, et maintes autres langages donnent la même reponse. "
   ]
  },
  {
   "cell_type": "markdown",
   "metadata": {},
   "source": [
    "Mais, en Raku, la réponse est correcte!"
   ]
  },
  {
   "cell_type": "code",
   "execution_count": 79,
   "metadata": {},
   "outputs": [
    {
     "name": "stdout",
     "output_type": "stream",
     "text": [
      "yes\n"
     ]
    }
   ],
   "source": [
    "say 0.1 + 0.2 == 0.3 ?? \"yes\" !! \"No\" ;"
   ]
  },
  {
   "cell_type": "code",
   "execution_count": 81,
   "metadata": {},
   "outputs": [
    {
     "name": "stdout",
     "output_type": "stream",
     "text": [
      "(3 10)\n"
     ]
    }
   ],
   "source": [
    "say 0.3.nude;"
   ]
  },
  {
   "cell_type": "code",
   "execution_count": 82,
   "metadata": {},
   "outputs": [
    {
     "name": "stdout",
     "output_type": "stream",
     "text": [
      "(17 60)\n"
     ]
    }
   ],
   "source": [
    "say (1/12 + 1/5).nude;"
   ]
  },
  {
   "cell_type": "code",
   "execution_count": 83,
   "metadata": {},
   "outputs": [
    {
     "data": {
      "text/plain": [
       "(Rat)"
      ]
     },
     "execution_count": 83,
     "metadata": {},
     "output_type": "execute_result"
    }
   ],
   "source": [
    "0.3.WHAT"
   ]
  },
  {
   "cell_type": "markdown",
   "metadata": {},
   "source": [
    "Dans Haskell, ce sont des \"Rationals\". Dans Raku, ce sont des Rat. (Et si les chiffres deviennent assez frands, des BigRat)"
   ]
  },
  {
   "cell_type": "markdown",
   "metadata": {},
   "source": [
    "C'est plus lent que du point-flottant `hardware`, mais ça donne la bonne réponse, ce que le point flottant ne fait pas. "
   ]
  },
  {
   "cell_type": "markdown",
   "metadata": {},
   "source": [
    "Un autre exemple: 7\\over 3"
   ]
  },
  {
   "cell_type": "code",
   "execution_count": 86,
   "metadata": {},
   "outputs": [
    {
     "name": "stdout",
     "output_type": "stream",
     "text": [
      "-2.333333\n"
     ]
    }
   ],
   "source": [
    "say -7/3;"
   ]
  },
  {
   "cell_type": "markdown",
   "metadata": {},
   "source": [
    "Dans d'autres langages, on a les résultats suivants: \n",
    "\n"
   ]
  },
  {
   "cell_type": "markdown",
   "metadata": {},
   "source": [
    "# Function Signatures"
   ]
  },
  {
   "cell_type": "markdown",
   "metadata": {},
   "source": [
    "## Gradual Typing"
   ]
  },
  {
   "cell_type": "markdown",
   "metadata": {},
   "source": [
    "## Subsets"
   ]
  },
  {
   "cell_type": "markdown",
   "metadata": {},
   "source": [
    "# Concurrency"
   ]
  },
  {
   "cell_type": "markdown",
   "metadata": {},
   "source": [
    "# Parallel Processing"
   ]
  },
  {
   "cell_type": "markdown",
   "metadata": {},
   "source": [
    "Le traitement en parallel est souvent difficile à gérer, et très difficile à debugger. En fait, sans passer par des processus, la majorité des langages de scripting communs aujourd'hui ont un 'Global Interpreter Lock' qui fait en sorte que on ne peut pas rouler en multi-thread. Il faut alors se pencher sur des processus sépraé, ce qui rends les choses plus difficiles encore. "
   ]
  },
  {
   "cell_type": "markdown",
   "metadata": {},
   "source": [
    "## hyper operators"
   ]
  },
  {
   "cell_type": "markdown",
   "metadata": {},
   "source": [
    "Imaginons que les deux vecteurs `@row1` et `@row2` ont des millions d'éléments. "
   ]
  },
  {
   "cell_type": "code",
   "execution_count": 87,
   "metadata": {},
   "outputs": [
    {
     "data": {
      "text/plain": [
       "[3 2 1]"
      ]
     },
     "execution_count": 87,
     "metadata": {},
     "output_type": "execute_result"
    }
   ],
   "source": [
    "my @row1 = 5, 20, 3;\n",
    "my @row2 = 3, 2, 1;\n",
    "\n",
    "# say row_add( @row1, @row2 );"
   ]
  },
  {
   "cell_type": "markdown",
   "metadata": {},
   "source": [
    "Un premier essai très simple: "
   ]
  },
  {
   "cell_type": "code",
   "execution_count": null,
   "metadata": {},
   "outputs": [],
   "source": [
    "sub row_add( @a, @b ) {\n",
    "    die if @a.elems != @b.elems;\n",
    "    \n",
    "    my @result;\n",
    "    for 0 .. @a.end -> $i {\n",
    "        push @result, @a[$i] + @b[$i];\n",
    "        }\n",
    "     return @result;   \n",
    "    }\n",
    "}"
   ]
  },
  {
   "cell_type": "markdown",
   "metadata": {},
   "source": [
    "C'est sériel, un pas après l'autre. "
   ]
  },
  {
   "cell_type": "code",
   "execution_count": null,
   "metadata": {},
   "outputs": [],
   "source": [
    "sub row_add( @a, @b ) {\n",
    "    die if @2.elems != @b.elems;\n",
    "    \n",
    "    return @a.map { @a[$_] + @b[$_] }, 0 .. @a.end;\n",
    "}"
   ]
  },
  {
   "cell_type": "markdown",
   "metadata": {},
   "source": [
    "La fonction `keys` fournit la liste d'indexes: "
   ]
  },
  {
   "cell_type": "code",
   "execution_count": null,
   "metadata": {},
   "outputs": [],
   "source": [
    "sub sub row_add( @a, @b ) {\n",
    "    die if @2.elems != @b.elems;\n",
    "    \n",
    "    return @a.keys.map: { @a[$_] + @b[$_] };\n",
    "}"
   ]
  },
  {
   "cell_type": "markdown",
   "metadata": {},
   "source": [
    "L'opérateur Zip (semblable à la fonction zip en python):"
   ]
  },
  {
   "cell_type": "code",
   "execution_count": null,
   "metadata": {},
   "outputs": [],
   "source": [
    "sub row_add( @a, @b ) {\n",
    "    die if @2.elems != @b.elems;\n",
    "\n",
    "    return @a Z+ @b;\n",
    "}"
   ]
  },
  {
   "cell_type": "markdown",
   "metadata": {},
   "source": [
    "Mais toutes ces méthodes sont en série. "
   ]
  },
  {
   "cell_type": "code",
   "execution_count": 88,
   "metadata": {},
   "outputs": [
    {
     "data": {
      "text/plain": [
       "&row_add"
      ]
     },
     "execution_count": 88,
     "metadata": {},
     "output_type": "execute_result"
    }
   ],
   "source": [
    "sub row_add( @a, @b ) {\n",
    "    return @a »+« @b; # les deux longeurs doivent être identiques (exception si pas égal)\n",
    "    \n",
    "    #return @a <<+<< @b; retourne resultat de taille de @b, @a est réutilisé\n",
    "    #return @a >>+>> @b; retourne resultat de taille de @a, @b est réutilisé\n",
    "    #return @a <<+>> @b; retourne un résultat de taille du plus grand vecteur, le plus court est réutilisé\n",
    "    \n",
    "}"
   ]
  },
  {
   "cell_type": "code",
   "execution_count": 89,
   "metadata": {},
   "outputs": [
    {
     "name": "stdout",
     "output_type": "stream",
     "text": [
      "[8 22 4]\n"
     ]
    }
   ],
   "source": [
    "say row_add( @row1, @row2 );"
   ]
  },
  {
   "cell_type": "markdown",
   "metadata": {},
   "source": [
    "Les  `hyper-operators` sont potentiellement multi-thread; ils ne forcent pas le multi-thread, mais disent au compilateur que il n'y a pas d'effets secondaires, donc il peut y aller si c'est possible."
   ]
  },
  {
   "cell_type": "markdown",
   "metadata": {},
   "source": [
    "Un exemple très utile c'est quand on fait du `scaling`:"
   ]
  },
  {
   "cell_type": "code",
   "execution_count": 84,
   "metadata": {},
   "outputs": [
    {
     "data": {
      "text/plain": [
       "&scale"
      ]
     },
     "execution_count": 84,
     "metadata": {},
     "output_type": "execute_result"
    }
   ],
   "source": [
    "sub scale ( @a, $n ) { return @a »*» $n }"
   ]
  },
  {
   "cell_type": "markdown",
   "metadata": {},
   "source": [
    "Une différence importante entre le meta-operateur `Z` et les hyper-opérateurs « et » est que (autres que le `multi-threading` est que `Z` ne fait qu'un niveau, tandis que « et » traversent complètement la structure. "
   ]
  },
  {
   "cell_type": "markdown",
   "metadata": {},
   "source": [
    "# Grammars"
   ]
  },
  {
   "cell_type": "markdown",
   "metadata": {},
   "source": [
    "Perl était reconnu pour ses regexs. MUltiples langages de programmation on copiés ou directement implantés les regexs de perl, même s'ils ne servaient pas autant. Mais les regexs sont difficile à comprendre, même très difficile à écrire moindrement que les textes deviennent compliqués. "
   ]
  },
  {
   "cell_type": "markdown",
   "metadata": {},
   "source": [
    "Prenons, par exemple, une date iso, em perl5 on ferait:"
   ]
  },
  {
   "cell_type": "raw",
   "metadata": {},
   "source": [
    "my $iso_date = qr{\n",
    "    (?<year>\\d\\d\\d\\d) -\n",
    "    (?<month>\\d\\d) -\n",
    "    (?<day>\\d\\d)\n",
    "}msx;\n",
    "#year is in $+{year}\n"
   ]
  },
  {
   "cell_type": "markdown",
   "metadata": {},
   "source": [
    "mais, si on a besoin de lire deux dates, on fait quoi?  Prenons un fichier avec des lignes tel que: `IsoDate IsoDate Titre`"
   ]
  },
  {
   "cell_type": "code",
   "execution_count": 72,
   "metadata": {},
   "outputs": [
    {
     "name": "stdout",
     "output_type": "stream",
     "text": [
      "\"Harry Potter and the Methods of Rationality\"\n"
     ]
    }
   ],
   "source": [
    "grammar LogLine3 {\n",
    "    token year  { <.digit> ** 4 <?{ $/.Num >= 1900  }> }\n",
    "    token month { <.digit> ** 2 <?{ $/.Num ~~ 1..12 }> }\n",
    "    token day   { <.digit> ** 2 <?{ $/.Num ~~ 1..31 }> }\n",
    "    \n",
    "    token ISO-Date { <year> '-' <month> '-' <day> }\n",
    "    regex book-name { \\S .*? }\n",
    "    token start-date { <ISO-Date> }\n",
    "    token stop-date  { <ISO-Date> }\n",
    "    rule TOP { ^ <start-date> <stop-date> <book-name> $ }\n",
    "    }\n",
    "\n",
    "my $line = ' 2010-02-28 2015-03-14 Harry Potter and the Methods of Rationality';\n",
    "\n",
    "LogLine3.parse($line) or die;\n",
    "\n",
    "say $/<book-name>.Str.perl;"
   ]
  },
  {
   "cell_type": "markdown",
   "metadata": {},
   "source": [
    "`Grammar` crée un `recursive-descent` parser. Pour faciliter les choses, il y a deux outils `Grammar::Tracer` et `Grammar::Debugger` pour aider à vérfier le code. "
   ]
  },
  {
   "cell_type": "markdown",
   "metadata": {},
   "source": [
    "### Palindromes"
   ]
  },
  {
   "cell_type": "code",
   "execution_count": 76,
   "metadata": {},
   "outputs": [
    {
     "name": "stdout",
     "output_type": "stream",
     "text": [
      "19\n"
     ]
    }
   ],
   "source": [
    "say (^100).grep({ $_ eq $_.flip }).elems;"
   ]
  }
 ],
 "metadata": {
  "kernelspec": {
   "display_name": "Raku",
   "language": "raku",
   "name": "raku"
  },
  "language_info": {
   "name": ""
  }
 },
 "nbformat": 4,
 "nbformat_minor": 4
}
