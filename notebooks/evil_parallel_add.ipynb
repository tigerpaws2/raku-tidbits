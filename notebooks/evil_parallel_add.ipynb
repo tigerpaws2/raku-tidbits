{
 "cells": [
  {
   "cell_type": "markdown",
   "metadata": {},
   "source": [
    "Evil parallel add"
   ]
  },
  {
   "cell_type": "code",
   "execution_count": null,
   "metadata": {},
   "outputs": [],
   "source": [
    "my @h = 2, 6, 3, 5, 2, 8, 1, 4, 2, 2, 5, 3, 5, 7, 4, 1;\n",
    "@h.append: @h for ^12; # make the array huge;\n",
    "# pop @h;  # make the @h array be a power-of-2 minus 1"
   ]
  },
  {
   "cell_type": "code",
   "execution_count": null,
   "metadata": {},
   "outputs": [],
   "source": [
    "sub evil_parallel_add ( @xs ) {\n",
    "    multi add_it ( ($a,  $b) ) { start { await($a) + await($b) } }\n",
    "    multi add_it ( ($a,    ) ) { start { await $a              } }\n",
    "    \n",
    "    my @p = @xs.map: { start {$_ } };\n",
    "    \n",
    "    @p = @p.rotor(, :partial).map(&add_it) while @p > 1;\n",
    "    return await @p[0];\n",
    "}"
   ]
  },
  {
   "cell_type": "code",
   "execution_count": null,
   "metadata": {},
   "outputs": [],
   "source": [
    "my $result = evil_parallel_add( @h );\n",
    "warn \"Wrong: $result vs {@h.sum}\" if $result != @h.sum;"
   ]
  },
  {
   "cell_type": "code",
   "execution_count": null,
   "metadata": {},
   "outputs": [],
   "source": [
    "@h.elem;\n"
   ]
  }
 ],
 "metadata": {
  "kernelspec": {
   "display_name": "Raku",
   "language": "raku",
   "name": "raku"
  },
  "language_info": {
   "name": ""
  }
 },
 "nbformat": 4,
 "nbformat_minor": 4
}
